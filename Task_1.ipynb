{
  "nbformat": 4,
  "nbformat_minor": 0,
  "metadata": {
    "colab": {
      "name": "Task_1.ipynb",
      "provenance": [],
      "collapsed_sections": [],
      "toc_visible": true
    },
    "kernelspec": {
      "name": "python3",
      "display_name": "Python 3"
    }
  },
  "cells": [
    {
      "cell_type": "markdown",
      "metadata": {
        "id": "zUsbpesa7a6J"
      },
      "source": [
        "###**VEDANT KHATAVKAR**\r\n",
        "\r\n",
        "# **The Spark Foundation- Data Science Internship Task-1**\r\n",
        "\r\n",
        "\r\n",
        "####Predict the percentage of an student based on the no. of study hours."
      ]
    },
    {
      "cell_type": "markdown",
      "metadata": {
        "id": "dWGsZLdswFkj"
      },
      "source": [
        "# **Simple Linear Regression**\r\n",
        "We will use Python Scikit-Learn library for machine learning to implement regression function.\r\n",
        "\r\n",
        "In this regression task we will predict the percentage of marks that a student is expected to score based upon the number of hours they studied. This is a simple linear regression task as it involves just two variables."
      ]
    },
    {
      "cell_type": "markdown",
      "metadata": {
        "id": "m8SXfWrGfZX_"
      },
      "source": [
        "\r\n",
        "\r\n",
        "#1.  Importing the Libraries\r\n",
        "\r\n"
      ]
    },
    {
      "cell_type": "code",
      "metadata": {
        "id": "TYf_PXl9eFOM"
      },
      "source": [
        "import numpy as np\r\n",
        "import matplotlib.pyplot as plt\r\n",
        "import pandas as pd"
      ],
      "execution_count": null,
      "outputs": []
    },
    {
      "cell_type": "markdown",
      "metadata": {
        "id": "x1PRDVB-f4tW"
      },
      "source": [
        "#2. Importing the Dataset"
      ]
    },
    {
      "cell_type": "code",
      "metadata": {
        "id": "-cZaHMNGf9KG"
      },
      "source": [
        "dataset = pd.read_csv('http://bit.ly/w-data')\r\n",
        "x = dataset.iloc[:, :-1].values\r\n",
        "y = dataset.iloc[:, -1].values"
      ],
      "execution_count": null,
      "outputs": []
    },
    {
      "cell_type": "markdown",
      "metadata": {
        "id": "HO-vLd4nQDNB"
      },
      "source": [
        "> Following are the **independent variable**\r\n",
        "\r\n",
        "\r\n",
        "\r\n",
        "\r\n",
        "\r\n"
      ]
    },
    {
      "cell_type": "code",
      "metadata": {
        "colab": {
          "base_uri": "https://localhost:8080/"
        },
        "id": "Sf1g9TXDsKkP",
        "outputId": "bc58e941-e3ba-404d-c2b1-8be75b06efa7"
      },
      "source": [
        "print(x)"
      ],
      "execution_count": null,
      "outputs": [
        {
          "output_type": "stream",
          "text": [
            "[[2.5]\n",
            " [5.1]\n",
            " [3.2]\n",
            " [8.5]\n",
            " [3.5]\n",
            " [1.5]\n",
            " [9.2]\n",
            " [5.5]\n",
            " [8.3]\n",
            " [2.7]\n",
            " [7.7]\n",
            " [5.9]\n",
            " [4.5]\n",
            " [3.3]\n",
            " [1.1]\n",
            " [8.9]\n",
            " [2.5]\n",
            " [1.9]\n",
            " [6.1]\n",
            " [7.4]\n",
            " [2.7]\n",
            " [4.8]\n",
            " [3.8]\n",
            " [6.9]\n",
            " [7.8]]\n"
          ],
          "name": "stdout"
        }
      ]
    },
    {
      "cell_type": "markdown",
      "metadata": {
        "id": "Re7FHNPHQZ7o"
      },
      "source": [
        "> Following are the **dependent variable**\r\n",
        "\r\n"
      ]
    },
    {
      "cell_type": "code",
      "metadata": {
        "colab": {
          "base_uri": "https://localhost:8080/"
        },
        "id": "YeNcx7GEsPk8",
        "outputId": "972e67e9-0743-4cf4-d162-dbd359193c30"
      },
      "source": [
        "print(y)"
      ],
      "execution_count": null,
      "outputs": [
        {
          "output_type": "stream",
          "text": [
            "[21 47 27 75 30 20 88 60 81 25 85 62 41 42 17 95 30 24 67 69 30 54 35 76\n",
            " 86]\n"
          ],
          "name": "stdout"
        }
      ]
    },
    {
      "cell_type": "markdown",
      "metadata": {
        "id": "BIAlji4JgmXg"
      },
      "source": [
        "#3. Splitting the dataset into training set and test set"
      ]
    },
    {
      "cell_type": "code",
      "metadata": {
        "id": "6Qunz4k6gsD2"
      },
      "source": [
        "from sklearn.model_selection import train_test_split\r\n",
        "x_train, x_test, y_train, y_test = train_test_split(x, y, random_state = 0, test_size = 0.2)"
      ],
      "execution_count": null,
      "outputs": []
    },
    {
      "cell_type": "markdown",
      "metadata": {
        "id": "Njb9ntpYhHQT"
      },
      "source": [
        "#4. Training the Simple Linear Regression model on the training set"
      ]
    },
    {
      "cell_type": "code",
      "metadata": {
        "colab": {
          "base_uri": "https://localhost:8080/"
        },
        "id": "ELwimm5ehPZ7",
        "outputId": "384b29fa-cd2e-4cde-e918-8651169f825e"
      },
      "source": [
        "from sklearn.linear_model import LinearRegression\r\n",
        "regressor = LinearRegression()\r\n",
        "regressor.fit(x_train, y_train)"
      ],
      "execution_count": null,
      "outputs": [
        {
          "output_type": "execute_result",
          "data": {
            "text/plain": [
              "LinearRegression(copy_X=True, fit_intercept=True, n_jobs=None, normalize=False)"
            ]
          },
          "metadata": {
            "tags": []
          },
          "execution_count": 6
        }
      ]
    },
    {
      "cell_type": "markdown",
      "metadata": {
        "id": "iCcKdhw3iDyN"
      },
      "source": [
        "#5. Predicting test set results"
      ]
    },
    {
      "cell_type": "code",
      "metadata": {
        "id": "VFgx0XWViZM1"
      },
      "source": [
        "y_pred = regressor.predict(x_test)"
      ],
      "execution_count": null,
      "outputs": []
    },
    {
      "cell_type": "markdown",
      "metadata": {
        "id": "6bvYqszfaxyD"
      },
      "source": [
        "\r\n",
        "\r\n",
        "> Following are the test set predictions which is stored in y_pred\r\n",
        "\r\n"
      ]
    },
    {
      "cell_type": "code",
      "metadata": {
        "colab": {
          "base_uri": "https://localhost:8080/"
        },
        "id": "p3Dv57bOsT8p",
        "outputId": "8db12aca-60ca-4638-91f9-0174739242c3"
      },
      "source": [
        "print(y_pred)"
      ],
      "execution_count": null,
      "outputs": [
        {
          "output_type": "stream",
          "text": [
            "[16.88414476 33.73226078 75.357018   26.79480124 60.49103328]\n"
          ],
          "name": "stdout"
        }
      ]
    },
    {
      "cell_type": "markdown",
      "metadata": {
        "id": "CsA6hHNxif_t"
      },
      "source": [
        "#6. Visualising the training set results"
      ]
    },
    {
      "cell_type": "code",
      "metadata": {
        "colab": {
          "base_uri": "https://localhost:8080/",
          "height": 295
        },
        "id": "uvWxzAXUimjn",
        "outputId": "25e9570e-7e3a-49d0-9ec8-93d866e6ddf8"
      },
      "source": [
        "plt.scatter(x_train, y_train, color = 'red')\r\n",
        "plt.plot(x_train, regressor.predict(x_train), color = 'black')\r\n",
        "plt.title('Hours vs Score(training set)')\r\n",
        "plt.xlabel('Hours')\r\n",
        "plt.ylabel('Scores')\r\n",
        "plt.show()"
      ],
      "execution_count": null,
      "outputs": [
        {
          "output_type": "display_data",
          "data": {
            "image/png": "[encoded data removed]",
            "text/plain": [
              "<Figure size 432x288 with 1 Axes>"
            ]
          },
          "metadata": {
            "tags": [],
            "needs_background": "light"
          }
        }
      ]
    },
    {
      "cell_type": "markdown",
      "metadata": {
        "id": "LTgDVqX2fYT1"
      },
      "source": [
        "\r\n",
        "\r\n",
        "> Clearly there is a positive linear relation between the hours studied and scores obtained.\r\n",
        "\r\n"
      ]
    },
    {
      "cell_type": "markdown",
      "metadata": {
        "id": "1nod98VMjrvk"
      },
      "source": [
        "#7. Visualising the test set results"
      ]
    },
    {
      "cell_type": "code",
      "metadata": {
        "colab": {
          "base_uri": "https://localhost:8080/",
          "height": 295
        },
        "id": "XpRQAUWujxll",
        "outputId": "32d4606e-86f6-4c5f-cc26-0489cc6c98e4"
      },
      "source": [
        "plt.scatter(x_test, y_test, color = 'red')\r\n",
        "plt.plot(x_train, regressor.predict(x_train), color = 'black')\r\n",
        "plt.title('Hours vs Score(training set)')\r\n",
        "plt.xlabel('Hours')\r\n",
        "plt.ylabel('Scores')\r\n",
        "plt.show()"
      ],
      "execution_count": null,
      "outputs": [
        {
          "output_type": "display_data",
          "data": {
            "image/png": "[encoded data removed]",
            "text/plain": [
              "<Figure size 432x288 with 1 Axes>"
            ]
          },
          "metadata": {
            "tags": [],
            "needs_background": "light"
          }
        }
      ]
    },
    {
      "cell_type": "markdown",
      "metadata": {
        "id": "fSyAKVTHqKMw"
      },
      "source": [
        "##Getting the final linear regression equation with the values of the coefficients"
      ]
    },
    {
      "cell_type": "code",
      "metadata": {
        "colab": {
          "base_uri": "https://localhost:8080/"
        },
        "id": "tQIaFlYxqJaA",
        "outputId": "315df605-7882-4bb3-94b5-476e1e0a12a6"
      },
      "source": [
        "print(regressor.coef_)\r\n",
        "print(regressor.intercept_)"
      ],
      "execution_count": null,
      "outputs": [
        {
          "output_type": "stream",
          "text": [
            "[9.91065648]\n",
            "2.018160041434662\n"
          ],
          "name": "stdout"
        }
      ]
    },
    {
      "cell_type": "markdown",
      "metadata": {
        "id": "dKotEyW_kqPG"
      },
      "source": [
        "\r\n",
        "\r\n",
        "> Here the results show that if the student studies for more than one hour then they are expected to score 9.91% more.\r\n",
        "\r\n"
      ]
    },
    {
      "cell_type": "markdown",
      "metadata": {
        "id": "pf9bkykaqRLn"
      },
      "source": [
        "###Therefore, the equation of our simple linear regression model is:\r\n",
        "\r\n",
        "              Score=9.6906×Hours+2.5069"
      ]
    },
    {
      "cell_type": "markdown",
      "metadata": {
        "id": "S9634ZYAqb8R"
      },
      "source": [
        "##Making a single prediction"
      ]
    },
    {
      "cell_type": "code",
      "metadata": {
        "colab": {
          "base_uri": "https://localhost:8080/"
        },
        "id": "RoQJHwXtqZHX",
        "outputId": "f78d2e72-bc8d-46a7-82fa-fbca554080f5"
      },
      "source": [
        "print(regressor.predict([[9.25]]))"
      ],
      "execution_count": null,
      "outputs": [
        {
          "output_type": "stream",
          "text": [
            "[93.69173249]\n"
          ],
          "name": "stdout"
        }
      ]
    },
    {
      "cell_type": "markdown",
      "metadata": {
        "id": "oapHbGTNuTPi"
      },
      "source": [
        "> A student will obtain 93.6% if a student studies for 9.25 hrs/day"
      ]
    }
  ]
}